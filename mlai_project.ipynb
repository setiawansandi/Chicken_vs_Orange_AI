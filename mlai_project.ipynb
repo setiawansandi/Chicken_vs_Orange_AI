{
  "nbformat": 4,
  "nbformat_minor": 0,
  "metadata": {
    "colab": {
      "name": "mlai_project.ipynb",
      "provenance": [],
      "toc_visible": true,
      "authorship_tag": "ABX9TyOLLNHoRulOGJwPIAmEbhsa"
    },
    "kernelspec": {
      "name": "python3",
      "display_name": "Python 3"
    },
    "language_info": {
      "name": "python"
    }
  },
  "cells": [
    {
      "cell_type": "code",
      "execution_count": null,
      "metadata": {
        "id": "-mm2yQYNGwye"
      },
      "outputs": [],
      "source": [
        "while True: pass"
      ]
    },
    {
      "cell_type": "code",
      "source": [
        "!git clone https://github.com/setiawansandi/image_recognition.git"
      ],
      "metadata": {
        "id": "2Vj37FQ9yy6H",
        "outputId": "d3051d5e-e042-423f-f43b-dd45404b3783",
        "colab": {
          "base_uri": "https://localhost:8080/"
        }
      },
      "execution_count": null,
      "outputs": [
        {
          "output_type": "stream",
          "name": "stdout",
          "text": [
            "Cloning into 'image_recognition'...\n",
            "remote: Enumerating objects: 7, done.\u001b[K\n",
            "remote: Counting objects: 100% (7/7), done.\u001b[K\n",
            "remote: Compressing objects: 100% (6/6), done.\u001b[K\n",
            "remote: Total 7 (delta 1), reused 0 (delta 0), pack-reused 0\u001b[K\n",
            "Unpacking objects: 100% (7/7), done.\n"
          ]
        }
      ]
    }
  ]
}