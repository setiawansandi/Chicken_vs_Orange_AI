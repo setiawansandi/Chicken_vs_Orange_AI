{
  "nbformat": 4,
  "nbformat_minor": 0,
  "metadata": {
    "colab": {
      "name": "mlai_project.ipynb",
      "provenance": [],
      "authorship_tag": "ABX9TyPypmUK1PXyXmhRdA31+uVq",
      "include_colab_link": true
    },
    "kernelspec": {
      "name": "python3",
      "display_name": "Python 3"
    },
    "language_info": {
      "name": "python"
    }
  },
  "cells": [
    {
      "cell_type": "markdown",
      "metadata": {
        "id": "view-in-github",
        "colab_type": "text"
      },
      "source": [
        "<a href=\"https://colab.research.google.com/github/setiawansandi/image_recognition/blob/main/mlai_project.ipynb\" target=\"_parent\"><img src=\"https://colab.research.google.com/assets/colab-badge.svg\" alt=\"Open In Colab\"/></a>"
      ]
    },
    {
      "cell_type": "code",
      "execution_count": null,
      "metadata": {
        "id": "-mm2yQYNGwye"
      },
      "outputs": [],
      "source": [
        "while True: pass"
      ]
    }
  ]
}